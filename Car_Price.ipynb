{
 "cells": [
  {
   "cell_type": "markdown",
   "id": "6b35467c-c6ed-44c0-aec1-915e30811b08",
   "metadata": {},
   "source": [
    "## Import the Necessary Libraries :"
   ]
  },
  {
   "cell_type": "code",
   "execution_count": 9,
   "id": "a1ca38c8-f9cf-4256-a84a-13e424f8ed7a",
   "metadata": {},
   "outputs": [],
   "source": [
    "import pandas as pd\n",
    "import numpy as np\n",
    "from sklearn.linear_model import LinearRegression\n",
    "from sklearn.linear_model import LogisticRegression\n",
    "from sklearn.neighbors import KNeighborsRegressor\n",
    "from sklearn.tree import DecisionTreeRegressor\n",
    "from sklearn.ensemble import GradientBoostingRegressor, AdaBoostRegressor\n",
    "from xgboost import XGBRegressor\n",
    "from sklearn.model_selection import train_test_split\n",
    "from sklearn.preprocessing import StandardScaler\n",
    "from sklearn.metrics import accuracy_score, confusion_matrix, classification_report\n",
    "from sklearn.metrics import r2_score, mean_squared_error\n",
    "import matplotlib.pyplot as plt\n",
    "from sklearn.impute import SimpleImputer"
   ]
  },
  {
   "cell_type": "code",
   "execution_count": 10,
   "id": "de07e803-3dfc-4872-a355-8f6dfeb0728d",
   "metadata": {},
   "outputs": [
    {
     "data": {
      "text/html": [
       "<div>\n",
       "<style scoped>\n",
       "    .dataframe tbody tr th:only-of-type {\n",
       "        vertical-align: middle;\n",
       "    }\n",
       "\n",
       "    .dataframe tbody tr th {\n",
       "        vertical-align: top;\n",
       "    }\n",
       "\n",
       "    .dataframe thead th {\n",
       "        text-align: right;\n",
       "    }\n",
       "</style>\n",
       "<table border=\"1\" class=\"dataframe\">\n",
       "  <thead>\n",
       "    <tr style=\"text-align: right;\">\n",
       "      <th></th>\n",
       "      <th>car_ID</th>\n",
       "      <th>symboling</th>\n",
       "      <th>CarName</th>\n",
       "      <th>fueltype</th>\n",
       "      <th>aspiration</th>\n",
       "      <th>doornumber</th>\n",
       "      <th>carbody</th>\n",
       "      <th>drivewheel</th>\n",
       "      <th>enginelocation</th>\n",
       "      <th>wheelbase</th>\n",
       "      <th>...</th>\n",
       "      <th>enginesize</th>\n",
       "      <th>fuelsystem</th>\n",
       "      <th>boreratio</th>\n",
       "      <th>stroke</th>\n",
       "      <th>compressionratio</th>\n",
       "      <th>horsepower</th>\n",
       "      <th>peakrpm</th>\n",
       "      <th>citympg</th>\n",
       "      <th>highwaympg</th>\n",
       "      <th>price</th>\n",
       "    </tr>\n",
       "  </thead>\n",
       "  <tbody>\n",
       "    <tr>\n",
       "      <th>0</th>\n",
       "      <td>1</td>\n",
       "      <td>3</td>\n",
       "      <td>alfa-romero giulia</td>\n",
       "      <td>gas</td>\n",
       "      <td>std</td>\n",
       "      <td>two</td>\n",
       "      <td>convertible</td>\n",
       "      <td>rwd</td>\n",
       "      <td>front</td>\n",
       "      <td>88.6</td>\n",
       "      <td>...</td>\n",
       "      <td>130</td>\n",
       "      <td>mpfi</td>\n",
       "      <td>3.47</td>\n",
       "      <td>2.68</td>\n",
       "      <td>9.0</td>\n",
       "      <td>111</td>\n",
       "      <td>5000</td>\n",
       "      <td>21</td>\n",
       "      <td>27</td>\n",
       "      <td>13495.0</td>\n",
       "    </tr>\n",
       "    <tr>\n",
       "      <th>1</th>\n",
       "      <td>2</td>\n",
       "      <td>3</td>\n",
       "      <td>alfa-romero stelvio</td>\n",
       "      <td>gas</td>\n",
       "      <td>std</td>\n",
       "      <td>two</td>\n",
       "      <td>convertible</td>\n",
       "      <td>rwd</td>\n",
       "      <td>front</td>\n",
       "      <td>88.6</td>\n",
       "      <td>...</td>\n",
       "      <td>130</td>\n",
       "      <td>mpfi</td>\n",
       "      <td>3.47</td>\n",
       "      <td>2.68</td>\n",
       "      <td>9.0</td>\n",
       "      <td>111</td>\n",
       "      <td>5000</td>\n",
       "      <td>21</td>\n",
       "      <td>27</td>\n",
       "      <td>16500.0</td>\n",
       "    </tr>\n",
       "    <tr>\n",
       "      <th>2</th>\n",
       "      <td>3</td>\n",
       "      <td>1</td>\n",
       "      <td>alfa-romero Quadrifoglio</td>\n",
       "      <td>gas</td>\n",
       "      <td>std</td>\n",
       "      <td>two</td>\n",
       "      <td>hatchback</td>\n",
       "      <td>rwd</td>\n",
       "      <td>front</td>\n",
       "      <td>94.5</td>\n",
       "      <td>...</td>\n",
       "      <td>152</td>\n",
       "      <td>mpfi</td>\n",
       "      <td>2.68</td>\n",
       "      <td>3.47</td>\n",
       "      <td>9.0</td>\n",
       "      <td>154</td>\n",
       "      <td>5000</td>\n",
       "      <td>19</td>\n",
       "      <td>26</td>\n",
       "      <td>16500.0</td>\n",
       "    </tr>\n",
       "    <tr>\n",
       "      <th>3</th>\n",
       "      <td>4</td>\n",
       "      <td>2</td>\n",
       "      <td>audi 100 ls</td>\n",
       "      <td>gas</td>\n",
       "      <td>std</td>\n",
       "      <td>four</td>\n",
       "      <td>sedan</td>\n",
       "      <td>fwd</td>\n",
       "      <td>front</td>\n",
       "      <td>99.8</td>\n",
       "      <td>...</td>\n",
       "      <td>109</td>\n",
       "      <td>mpfi</td>\n",
       "      <td>3.19</td>\n",
       "      <td>3.40</td>\n",
       "      <td>10.0</td>\n",
       "      <td>102</td>\n",
       "      <td>5500</td>\n",
       "      <td>24</td>\n",
       "      <td>30</td>\n",
       "      <td>13950.0</td>\n",
       "    </tr>\n",
       "    <tr>\n",
       "      <th>4</th>\n",
       "      <td>5</td>\n",
       "      <td>2</td>\n",
       "      <td>audi 100ls</td>\n",
       "      <td>gas</td>\n",
       "      <td>std</td>\n",
       "      <td>four</td>\n",
       "      <td>sedan</td>\n",
       "      <td>4wd</td>\n",
       "      <td>front</td>\n",
       "      <td>99.4</td>\n",
       "      <td>...</td>\n",
       "      <td>136</td>\n",
       "      <td>mpfi</td>\n",
       "      <td>3.19</td>\n",
       "      <td>3.40</td>\n",
       "      <td>8.0</td>\n",
       "      <td>115</td>\n",
       "      <td>5500</td>\n",
       "      <td>18</td>\n",
       "      <td>22</td>\n",
       "      <td>17450.0</td>\n",
       "    </tr>\n",
       "    <tr>\n",
       "      <th>...</th>\n",
       "      <td>...</td>\n",
       "      <td>...</td>\n",
       "      <td>...</td>\n",
       "      <td>...</td>\n",
       "      <td>...</td>\n",
       "      <td>...</td>\n",
       "      <td>...</td>\n",
       "      <td>...</td>\n",
       "      <td>...</td>\n",
       "      <td>...</td>\n",
       "      <td>...</td>\n",
       "      <td>...</td>\n",
       "      <td>...</td>\n",
       "      <td>...</td>\n",
       "      <td>...</td>\n",
       "      <td>...</td>\n",
       "      <td>...</td>\n",
       "      <td>...</td>\n",
       "      <td>...</td>\n",
       "      <td>...</td>\n",
       "      <td>...</td>\n",
       "    </tr>\n",
       "    <tr>\n",
       "      <th>200</th>\n",
       "      <td>201</td>\n",
       "      <td>-1</td>\n",
       "      <td>volvo 145e (sw)</td>\n",
       "      <td>gas</td>\n",
       "      <td>std</td>\n",
       "      <td>four</td>\n",
       "      <td>sedan</td>\n",
       "      <td>rwd</td>\n",
       "      <td>front</td>\n",
       "      <td>109.1</td>\n",
       "      <td>...</td>\n",
       "      <td>141</td>\n",
       "      <td>mpfi</td>\n",
       "      <td>3.78</td>\n",
       "      <td>3.15</td>\n",
       "      <td>9.5</td>\n",
       "      <td>114</td>\n",
       "      <td>5400</td>\n",
       "      <td>23</td>\n",
       "      <td>28</td>\n",
       "      <td>16845.0</td>\n",
       "    </tr>\n",
       "    <tr>\n",
       "      <th>201</th>\n",
       "      <td>202</td>\n",
       "      <td>-1</td>\n",
       "      <td>volvo 144ea</td>\n",
       "      <td>gas</td>\n",
       "      <td>turbo</td>\n",
       "      <td>four</td>\n",
       "      <td>sedan</td>\n",
       "      <td>rwd</td>\n",
       "      <td>front</td>\n",
       "      <td>109.1</td>\n",
       "      <td>...</td>\n",
       "      <td>141</td>\n",
       "      <td>mpfi</td>\n",
       "      <td>3.78</td>\n",
       "      <td>3.15</td>\n",
       "      <td>8.7</td>\n",
       "      <td>160</td>\n",
       "      <td>5300</td>\n",
       "      <td>19</td>\n",
       "      <td>25</td>\n",
       "      <td>19045.0</td>\n",
       "    </tr>\n",
       "    <tr>\n",
       "      <th>202</th>\n",
       "      <td>203</td>\n",
       "      <td>-1</td>\n",
       "      <td>volvo 244dl</td>\n",
       "      <td>gas</td>\n",
       "      <td>std</td>\n",
       "      <td>four</td>\n",
       "      <td>sedan</td>\n",
       "      <td>rwd</td>\n",
       "      <td>front</td>\n",
       "      <td>109.1</td>\n",
       "      <td>...</td>\n",
       "      <td>173</td>\n",
       "      <td>mpfi</td>\n",
       "      <td>3.58</td>\n",
       "      <td>2.87</td>\n",
       "      <td>8.8</td>\n",
       "      <td>134</td>\n",
       "      <td>5500</td>\n",
       "      <td>18</td>\n",
       "      <td>23</td>\n",
       "      <td>21485.0</td>\n",
       "    </tr>\n",
       "    <tr>\n",
       "      <th>203</th>\n",
       "      <td>204</td>\n",
       "      <td>-1</td>\n",
       "      <td>volvo 246</td>\n",
       "      <td>diesel</td>\n",
       "      <td>turbo</td>\n",
       "      <td>four</td>\n",
       "      <td>sedan</td>\n",
       "      <td>rwd</td>\n",
       "      <td>front</td>\n",
       "      <td>109.1</td>\n",
       "      <td>...</td>\n",
       "      <td>145</td>\n",
       "      <td>idi</td>\n",
       "      <td>3.01</td>\n",
       "      <td>3.40</td>\n",
       "      <td>23.0</td>\n",
       "      <td>106</td>\n",
       "      <td>4800</td>\n",
       "      <td>26</td>\n",
       "      <td>27</td>\n",
       "      <td>22470.0</td>\n",
       "    </tr>\n",
       "    <tr>\n",
       "      <th>204</th>\n",
       "      <td>205</td>\n",
       "      <td>-1</td>\n",
       "      <td>volvo 264gl</td>\n",
       "      <td>gas</td>\n",
       "      <td>turbo</td>\n",
       "      <td>four</td>\n",
       "      <td>sedan</td>\n",
       "      <td>rwd</td>\n",
       "      <td>front</td>\n",
       "      <td>109.1</td>\n",
       "      <td>...</td>\n",
       "      <td>141</td>\n",
       "      <td>mpfi</td>\n",
       "      <td>3.78</td>\n",
       "      <td>3.15</td>\n",
       "      <td>9.5</td>\n",
       "      <td>114</td>\n",
       "      <td>5400</td>\n",
       "      <td>19</td>\n",
       "      <td>25</td>\n",
       "      <td>22625.0</td>\n",
       "    </tr>\n",
       "  </tbody>\n",
       "</table>\n",
       "<p>205 rows × 26 columns</p>\n",
       "</div>"
      ],
      "text/plain": [
       "     car_ID  symboling                   CarName fueltype aspiration  \\\n",
       "0         1          3        alfa-romero giulia      gas        std   \n",
       "1         2          3       alfa-romero stelvio      gas        std   \n",
       "2         3          1  alfa-romero Quadrifoglio      gas        std   \n",
       "3         4          2               audi 100 ls      gas        std   \n",
       "4         5          2                audi 100ls      gas        std   \n",
       "..      ...        ...                       ...      ...        ...   \n",
       "200     201         -1           volvo 145e (sw)      gas        std   \n",
       "201     202         -1               volvo 144ea      gas      turbo   \n",
       "202     203         -1               volvo 244dl      gas        std   \n",
       "203     204         -1                 volvo 246   diesel      turbo   \n",
       "204     205         -1               volvo 264gl      gas      turbo   \n",
       "\n",
       "    doornumber      carbody drivewheel enginelocation  wheelbase  ...  \\\n",
       "0          two  convertible        rwd          front       88.6  ...   \n",
       "1          two  convertible        rwd          front       88.6  ...   \n",
       "2          two    hatchback        rwd          front       94.5  ...   \n",
       "3         four        sedan        fwd          front       99.8  ...   \n",
       "4         four        sedan        4wd          front       99.4  ...   \n",
       "..         ...          ...        ...            ...        ...  ...   \n",
       "200       four        sedan        rwd          front      109.1  ...   \n",
       "201       four        sedan        rwd          front      109.1  ...   \n",
       "202       four        sedan        rwd          front      109.1  ...   \n",
       "203       four        sedan        rwd          front      109.1  ...   \n",
       "204       four        sedan        rwd          front      109.1  ...   \n",
       "\n",
       "     enginesize  fuelsystem  boreratio  stroke compressionratio horsepower  \\\n",
       "0           130        mpfi       3.47    2.68              9.0        111   \n",
       "1           130        mpfi       3.47    2.68              9.0        111   \n",
       "2           152        mpfi       2.68    3.47              9.0        154   \n",
       "3           109        mpfi       3.19    3.40             10.0        102   \n",
       "4           136        mpfi       3.19    3.40              8.0        115   \n",
       "..          ...         ...        ...     ...              ...        ...   \n",
       "200         141        mpfi       3.78    3.15              9.5        114   \n",
       "201         141        mpfi       3.78    3.15              8.7        160   \n",
       "202         173        mpfi       3.58    2.87              8.8        134   \n",
       "203         145         idi       3.01    3.40             23.0        106   \n",
       "204         141        mpfi       3.78    3.15              9.5        114   \n",
       "\n",
       "     peakrpm citympg  highwaympg    price  \n",
       "0       5000      21          27  13495.0  \n",
       "1       5000      21          27  16500.0  \n",
       "2       5000      19          26  16500.0  \n",
       "3       5500      24          30  13950.0  \n",
       "4       5500      18          22  17450.0  \n",
       "..       ...     ...         ...      ...  \n",
       "200     5400      23          28  16845.0  \n",
       "201     5300      19          25  19045.0  \n",
       "202     5500      18          23  21485.0  \n",
       "203     4800      26          27  22470.0  \n",
       "204     5400      19          25  22625.0  \n",
       "\n",
       "[205 rows x 26 columns]"
      ]
     },
     "execution_count": 10,
     "metadata": {},
     "output_type": "execute_result"
    }
   ],
   "source": [
    "# Load the datset\n",
    "car = pd.read_csv('CarPrice_Assignment.csv')\n",
    "car"
   ]
  },
  {
   "cell_type": "code",
   "execution_count": 11,
   "id": "e40e36b6-24c2-4dfe-9d6b-98e4b4a179a6",
   "metadata": {},
   "outputs": [
    {
     "data": {
      "text/plain": [
       "Index(['car_ID', 'symboling', 'CarName', 'fueltype', 'aspiration',\n",
       "       'doornumber', 'carbody', 'drivewheel', 'enginelocation', 'wheelbase',\n",
       "       'carlength', 'carwidth', 'carheight', 'curbweight', 'enginetype',\n",
       "       'cylindernumber', 'enginesize', 'fuelsystem', 'boreratio', 'stroke',\n",
       "       'compressionratio', 'horsepower', 'peakrpm', 'citympg', 'highwaympg',\n",
       "       'price'],\n",
       "      dtype='object')"
      ]
     },
     "execution_count": 11,
     "metadata": {},
     "output_type": "execute_result"
    }
   ],
   "source": [
    "car.keys()"
   ]
  },
  {
   "cell_type": "code",
   "execution_count": 12,
   "id": "8534e2bf-3ccb-4583-8762-ebdd000c9e7e",
   "metadata": {},
   "outputs": [
    {
     "name": "stdout",
     "output_type": "stream",
     "text": [
      "<class 'pandas.core.frame.DataFrame'>\n",
      "RangeIndex: 205 entries, 0 to 204\n",
      "Data columns (total 26 columns):\n",
      " #   Column            Non-Null Count  Dtype  \n",
      "---  ------            --------------  -----  \n",
      " 0   car_ID            205 non-null    int64  \n",
      " 1   symboling         205 non-null    int64  \n",
      " 2   CarName           205 non-null    object \n",
      " 3   fueltype          205 non-null    object \n",
      " 4   aspiration        205 non-null    object \n",
      " 5   doornumber        205 non-null    object \n",
      " 6   carbody           205 non-null    object \n",
      " 7   drivewheel        205 non-null    object \n",
      " 8   enginelocation    205 non-null    object \n",
      " 9   wheelbase         205 non-null    float64\n",
      " 10  carlength         205 non-null    float64\n",
      " 11  carwidth          205 non-null    float64\n",
      " 12  carheight         205 non-null    float64\n",
      " 13  curbweight        205 non-null    int64  \n",
      " 14  enginetype        205 non-null    object \n",
      " 15  cylindernumber    205 non-null    object \n",
      " 16  enginesize        205 non-null    int64  \n",
      " 17  fuelsystem        205 non-null    object \n",
      " 18  boreratio         205 non-null    float64\n",
      " 19  stroke            205 non-null    float64\n",
      " 20  compressionratio  205 non-null    float64\n",
      " 21  horsepower        205 non-null    int64  \n",
      " 22  peakrpm           205 non-null    int64  \n",
      " 23  citympg           205 non-null    int64  \n",
      " 24  highwaympg        205 non-null    int64  \n",
      " 25  price             205 non-null    float64\n",
      "dtypes: float64(8), int64(8), object(10)\n",
      "memory usage: 41.8+ KB\n"
     ]
    }
   ],
   "source": [
    "car.info()"
   ]
  },
  {
   "cell_type": "code",
   "execution_count": 13,
   "id": "f0043b9f-911c-4e65-bad2-c0fe46f1c018",
   "metadata": {},
   "outputs": [
    {
     "data": {
      "text/plain": [
       "(205, 26)"
      ]
     },
     "execution_count": 13,
     "metadata": {},
     "output_type": "execute_result"
    }
   ],
   "source": [
    "car.shape"
   ]
  },
  {
   "cell_type": "code",
   "execution_count": 14,
   "id": "a4cd7b5d-d413-471c-b5de-8118eae40ac2",
   "metadata": {},
   "outputs": [
    {
     "data": {
      "text/plain": [
       "car_ID              0\n",
       "symboling           0\n",
       "CarName             0\n",
       "fueltype            0\n",
       "aspiration          0\n",
       "doornumber          0\n",
       "carbody             0\n",
       "drivewheel          0\n",
       "enginelocation      0\n",
       "wheelbase           0\n",
       "carlength           0\n",
       "carwidth            0\n",
       "carheight           0\n",
       "curbweight          0\n",
       "enginetype          0\n",
       "cylindernumber      0\n",
       "enginesize          0\n",
       "fuelsystem          0\n",
       "boreratio           0\n",
       "stroke              0\n",
       "compressionratio    0\n",
       "horsepower          0\n",
       "peakrpm             0\n",
       "citympg             0\n",
       "highwaympg          0\n",
       "price               0\n",
       "dtype: int64"
      ]
     },
     "execution_count": 14,
     "metadata": {},
     "output_type": "execute_result"
    }
   ],
   "source": [
    "car.isnull().sum()"
   ]
  },
  {
   "cell_type": "code",
   "execution_count": 15,
   "id": "31569a46-0f68-47e9-92b6-991913da8ebc",
   "metadata": {},
   "outputs": [],
   "source": [
    "def door_map(value):\n",
    "    return {'two': 2, 'four': 4}.get(value, None)"
   ]
  },
  {
   "cell_type": "code",
   "execution_count": 16,
   "id": "44f06816-2ef1-4dd0-aa37-7b3b092f6ece",
   "metadata": {},
   "outputs": [],
   "source": [
    "# Convert of value from (two & four) to (2 & 4)\n",
    "car['doornumber'] = car['doornumber'].apply(door_map)"
   ]
  },
  {
   "cell_type": "code",
   "execution_count": 17,
   "id": "ac2004e7-a9da-4e75-a63a-cd8ea36cfea2",
   "metadata": {},
   "outputs": [
    {
     "data": {
      "text/plain": [
       "0      2\n",
       "1      2\n",
       "2      2\n",
       "3      4\n",
       "4      4\n",
       "      ..\n",
       "200    4\n",
       "201    4\n",
       "202    4\n",
       "203    4\n",
       "204    4\n",
       "Name: doornumber, Length: 205, dtype: int64"
      ]
     },
     "execution_count": 17,
     "metadata": {},
     "output_type": "execute_result"
    }
   ],
   "source": [
    "car.doornumber"
   ]
  },
  {
   "cell_type": "code",
   "execution_count": 18,
   "id": "35554bee-1ab3-4c3b-b750-f2064b295fb1",
   "metadata": {},
   "outputs": [],
   "source": [
    "def cylinder_map(value):\n",
    "    return {'two': 2, 'four': 4, 'five': 5, 'six': 6, 'eight': 8}.get(value, None)"
   ]
  },
  {
   "cell_type": "code",
   "execution_count": 19,
   "id": "6a6cb9f1-0c4d-4e2a-bc7f-32a3e5fc5fbb",
   "metadata": {},
   "outputs": [],
   "source": [
    "# Convert of value from (two,four,five,six & eight) to (2,4,5,6 & 8)\n",
    "car['cylindernumber'] = car['cylindernumber'].apply(cylinder_map)"
   ]
  },
  {
   "cell_type": "code",
   "execution_count": 20,
   "id": "238cfffa-d720-4e4d-9e93-608cb441c942",
   "metadata": {},
   "outputs": [
    {
     "data": {
      "text/plain": [
       "0      4.0\n",
       "1      4.0\n",
       "2      6.0\n",
       "3      4.0\n",
       "4      5.0\n",
       "      ... \n",
       "200    4.0\n",
       "201    4.0\n",
       "202    6.0\n",
       "203    6.0\n",
       "204    4.0\n",
       "Name: cylindernumber, Length: 205, dtype: float64"
      ]
     },
     "execution_count": 20,
     "metadata": {},
     "output_type": "execute_result"
    }
   ],
   "source": [
    "car.cylindernumber"
   ]
  },
  {
   "cell_type": "code",
   "execution_count": 21,
   "id": "875d580c-92bd-4d15-a72f-f06a79e748ba",
   "metadata": {},
   "outputs": [],
   "source": [
    "d = ['car_ID', 'CarName', 'fueltype', 'aspiration', 'carbody', 'drivewheel', 'enginelocation', 'enginetype', 'fuelsystem']\n",
    "result = car.pop('price')\n",
    "data = car.drop(columns=d)"
   ]
  },
  {
   "cell_type": "code",
   "execution_count": 22,
   "id": "94a56c5b-ec34-4c83-a9fc-63343ee7a9c4",
   "metadata": {},
   "outputs": [],
   "source": [
    "# Split the dataset into training and testing data\n",
    "training_data, testing_data, training_result, testing_result = train_test_split(data, result, test_size=0.11, random_state=100)"
   ]
  },
  {
   "cell_type": "code",
   "execution_count": 23,
   "id": "148e23e3-8683-4ae2-bf32-fe86f4383c90",
   "metadata": {},
   "outputs": [],
   "source": [
    "# To deal with missing values\n",
    "imputer = SimpleImputer(strategy='mean')  # can also use 'median' or 'most_frequent'\n",
    "training_data = imputer.fit_transform(training_data)   # computes the mean of column and assign it to missing value\n",
    "testing_data = imputer.transform(testing_data)   # fit is not used to prevent data leakage"
   ]
  },
  {
   "cell_type": "code",
   "execution_count": 24,
   "id": "e4246ec0-dd17-4c13-ac07-7518d0ab5b38",
   "metadata": {},
   "outputs": [],
   "source": [
    "# Fit on the training data and transform both training and testing data\n",
    "scaler = StandardScaler()\n",
    "training_data = scaler.fit_transform(training_data)\n",
    "testing_data = scaler.transform(testing_data)"
   ]
  },
  {
   "cell_type": "code",
   "execution_count": 25,
   "id": "50ac2638-8dc3-46a4-b4c5-309bb1716dd4",
   "metadata": {},
   "outputs": [
    {
     "data": {
      "text/plain": [
       "array([[ 0.14043837, -1.12915898, -0.85002626, ...,  0.81605662,\n",
       "         1.73975421,  1.4455764 ],\n",
       "       [ 0.96494749, -1.12915898, -0.0446292 , ..., -0.66810631,\n",
       "        -0.22504696, -0.14368442],\n",
       "       [-0.68407075,  0.88561489,  0.29809295, ...,  0.17998679,\n",
       "        -1.28301683, -1.29951047],\n",
       "       ...,\n",
       "       [-1.50857987,  0.88561489,  1.94315927, ..., -1.62221105,\n",
       "        -0.52732407, -0.8660757 ],\n",
       "       [ 0.14043837,  0.88561489, -0.85002626, ...,  0.81605662,\n",
       "         0.8329229 ,  1.01214163],\n",
       "       [ 0.14043837,  0.88561489,  1.22344276, ...,  0.81605662,\n",
       "        -1.28301683, -1.58846698]])"
      ]
     },
     "execution_count": 25,
     "metadata": {},
     "output_type": "execute_result"
    }
   ],
   "source": [
    "training_data"
   ]
  },
  {
   "cell_type": "code",
   "execution_count": 26,
   "id": "ec2d1202-524d-42fc-941a-80acbd287c25",
   "metadata": {},
   "outputs": [
    {
     "data": {
      "text/plain": [
       "array([[-6.84070754e-01,  8.85614886e-01, -5.07304107e-01,\n",
       "        -6.03991797e-01, -6.67749158e-01, -2.63459372e-01,\n",
       "        -8.46349644e-01, -3.76897345e-01, -6.75471492e-01,\n",
       "        -4.46468646e-01, -7.59242958e-01, -3.15425884e-01,\n",
       "        -8.24201217e-01, -6.68106309e-01,  1.89089276e+00,\n",
       "         2.31244594e+00],\n",
       "       [ 9.64947487e-01,  8.85614886e-01, -2.33126386e-01,\n",
       "        -1.61664570e-01, -1.60604312e-01,  8.38361354e-01,\n",
       "        -5.01635871e-01, -3.76897345e-01, -4.07318820e-01,\n",
       "        -4.46468646e-01,  4.33650668e-01, -3.15425884e-01,\n",
       "        -4.41080270e-01,  2.85998429e-01,  2.28368691e-01,\n",
       "         4.34228606e-01],\n",
       "       [ 1.40438367e-01, -1.12915898e+00,  2.39152270e-02,\n",
       "         3.38001371e-01,  3.00436457e-01,  2.21978534e-02,\n",
       "        -2.92141312e-01, -3.76897345e-01, -9.04111159e-02,\n",
       "         3.08359906e-01,  4.01410299e-01, -4.11417040e-01,\n",
       "        -4.66621666e-01, -6.68106309e-01,  7.72301392e-02,\n",
       "         1.45272093e-01],\n",
       "       [ 1.40438367e-01, -1.12915898e+00, -7.12937398e-01,\n",
       "        -4.07401919e-01, -8.52165466e-01, -4.26692072e-01,\n",
       "        -5.20680831e-01, -3.76897345e-01, -6.75471492e-01,\n",
       "        -2.57761508e-01, -5.98041117e-01, -2.19434728e-01,\n",
       "         2.48537435e-01,  3.14831264e+00,  7.72301392e-02,\n",
       "        -2.88162676e-01],\n",
       "       [ 9.64947487e-01, -1.12915898e+00, -9.18570689e-01,\n",
       "        -1.34120384e+00, -9.44373620e-01,  8.38361354e-01,\n",
       "        -5.68293230e-01, -3.76897345e-01, -4.31696336e-01,\n",
       "         1.17641274e+00, -2.01661732e+00, -3.87419251e-01,\n",
       "        -7.47577028e-01, -1.51619941e+00,  7.72301392e-02,\n",
       "         7.93836574e-04],\n",
       "       [-6.84070754e-01,  8.85614886e-01,  2.39152270e-02,\n",
       "         3.38001371e-01,  3.00436457e-01,  7.56745004e-01,\n",
       "        -2.15961473e-01, -3.76897345e-01, -9.04111159e-02,\n",
       "         3.08359906e-01,  4.01410299e-01, -4.11417040e-01,\n",
       "        -4.66621666e-01, -6.68106309e-01,  7.72301392e-02,\n",
       "         1.45272093e-01],\n",
       "       [-2.33308900e+00,  8.85614886e-01,  9.66401143e-01,\n",
       "         1.23903831e+00,  6.23164996e-01,  1.04240223e+00,\n",
       "         9.64826037e-01, -3.76897345e-01,  1.04609010e-01,\n",
       "         1.17641274e+00, -3.72358539e-01, -6.75392719e-01,\n",
       "         1.52560726e+00, -3.20364839e-02, -1.28301683e+00,\n",
       "        -1.29951047e+00],\n",
       "       [ 1.40438367e-01, -1.12915898e+00,  6.92223422e-01,\n",
       "         3.87148841e-01,  9.91997611e-01,  4.71087779e-01,\n",
       "         7.07719079e-01, -3.76897345e-01,  3.48384167e-01,\n",
       "         1.78027558e+00, -4.69079644e-01, -5.55403774e-01,\n",
       "         1.85764541e+00, -2.44059759e-01, -9.80739724e-01,\n",
       "        -1.01055396e+00],\n",
       "       [ 9.64947487e-01, -1.12915898e+00, -4.46292032e-02,\n",
       "         2.06941452e-01, -1.14500235e-01, -2.63459372e-01,\n",
       "         8.31511318e-01, -3.76897345e-01,  4.94649261e-01,\n",
       "         1.17641274e+00,  7.56054350e-01, -2.43432517e-01,\n",
       "         3.50703021e-01, -6.68106309e-01, -2.25046965e-01,\n",
       "        -1.43684420e-01],\n",
       "       [ 1.78945661e+00, -1.12915898e+00, -1.26129284e+00,\n",
       "        -2.43577020e-01,  9.45893534e-01, -1.61012915e+00,\n",
       "         1.01434293e+00,  1.77680177e+00,  1.34786231e+00,\n",
       "         4.59325616e-01,  1.45258802e-02, -3.15425884e-01,\n",
       "         1.47452447e+00,  1.79986791e-01, -9.80739724e-01,\n",
       "        -8.66075702e-01],\n",
       "       [-1.50857987e+00,  8.85614886e-01,  1.78893431e+00,\n",
       "         1.23903831e+00,  1.40693430e+00,  7.56745004e-01,\n",
       "         7.87707910e-01, -3.76897345e-01,  3.72761682e-01,\n",
       "         1.78027558e+00, -3.72358539e-01, -1.95436939e-01,\n",
       "         2.99620228e-01,  6.04033341e-01, -3.76185517e-01,\n",
       "        -4.32640933e-01],\n",
       "       [ 1.78945661e+00, -1.12915898e+00,  7.53235497e-02,\n",
       "         1.05883093e+00,  3.00436457e-01,  1.00159405e+00,\n",
       "         5.13460489e-01, -3.76897345e-01, -1.14788632e-01,\n",
       "         8.74481320e-01, -6.30281485e-01, -3.15425884e-01,\n",
       "         1.47452447e+00,  8.16056616e-01, -9.80739724e-01,\n",
       "        -7.21597446e-01],\n",
       "       [-6.84070754e-01,  8.85614886e-01,  1.58330102e+00,\n",
       "         1.06702217e+00,  1.17641392e+00,  1.24644310e+00,\n",
       "         1.02196092e+00, -3.76897345e-01, -1.39166147e-01,\n",
       "         5.72549899e-01, -3.46743389e+00, -4.59412618e-01,\n",
       "        -1.85666305e-01, -2.44059759e-01, -9.80739724e-01,\n",
       "        -1.01055396e+00],\n",
       "       [-6.84070754e-01,  8.85614886e-01, -3.70215247e-01,\n",
       "         1.41411492e-01, -2.98916543e-01,  1.85430554e-01,\n",
       "        -1.39781634e-01, -3.76897345e-01, -3.82941304e-01,\n",
       "        -5.97434357e-01,  1.01397730e+00, -3.15425884e-01,\n",
       "        -3.24179263e-02,  1.45212644e+00, -2.25046965e-01,\n",
       "        -4.32640933e-01],\n",
       "       [-6.84070754e-01,  8.85614886e-01,  3.81099500e+00,\n",
       "         2.81994859e+00,  2.69784846e+00,  1.24644310e+00,\n",
       "         2.59317010e+00,  3.93050089e+00,  4.44380680e+00,\n",
       "         1.85575844e+00,  2.72448826e-01, -5.55403774e-01,\n",
       "         2.08751798e+00, -1.30417613e+00, -1.73643248e+00,\n",
       "        -2.16638001e+00],\n",
       "       [ 9.64947487e-01, -1.12915898e+00, -2.06668990e+00,\n",
       "        -2.38149195e+00, -8.98269543e-01, -1.16123922e+00,\n",
       "        -1.37008604e+00, -3.76897345e-01, -8.21736587e-01,\n",
       "        -1.50322862e+00,  4.65891036e-01, -2.67430306e-01,\n",
       "        -6.70952838e-01,  1.87617299e+00,  8.32922899e-01,\n",
       "         1.01214163e+00],\n",
       "       [-6.84070754e-01,  8.85614886e-01, -5.07304107e-01,\n",
       "        -6.03991797e-01, -6.67749158e-01, -2.63459372e-01,\n",
       "        -8.71108091e-01, -3.76897345e-01, -6.75471492e-01,\n",
       "        -4.46468646e-01, -7.59242958e-01, -3.15425884e-01,\n",
       "        -8.24201217e-01, -6.68106309e-01,  6.81784347e-01,\n",
       "         8.67663375e-01],\n",
       "       [ 9.64947487e-01,  8.85614886e-01,  7.53235497e-02,\n",
       "         1.05883093e+00,  3.00436457e-01,  1.00159405e+00,\n",
       "         2.98252442e-01, -3.76897345e-01, -1.14788632e-01,\n",
       "         8.74481320e-01, -6.30281485e-01, -2.43432517e-01,\n",
       "         1.97454642e-01,  2.85998429e-01, -6.78462621e-01,\n",
       "        -4.32640933e-01],\n",
       "       [-6.84070754e-01,  8.85614886e-01,  1.06921779e+00,\n",
       "         1.08646513e-01,  1.16020150e-01,  3.07855079e-01,\n",
       "         2.50640043e-01, -3.76897345e-01,  3.48384167e-01,\n",
       "         1.70479273e+00, -3.40118171e-01, -5.55403774e-01,\n",
       "         4.52868607e-01, -2.44059759e-01, -9.80739724e-01,\n",
       "        -5.77119189e-01],\n",
       "       [ 1.78945661e+00, -1.12915898e+00, -4.73031892e-01,\n",
       "        -3.87958964e-02,  2.08228303e-01, -1.40608827e+00,\n",
       "         7.28668535e-01, -3.76897345e-01,  7.38424418e-01,\n",
       "         1.06318846e+00,  1.91670761e+00, -7.95381664e-01,\n",
       "         1.09140352e+00, -2.44059759e-01, -9.80739724e-01,\n",
       "        -1.01055396e+00],\n",
       "       [-1.50857987e+00,  8.85614886e-01,  9.66401143e-01,\n",
       "         1.23903831e+00,  6.23164996e-01,  1.57290850e+00,\n",
       "         9.43876581e-01, -3.76897345e-01,  3.72761682e-01,\n",
       "         1.78027558e+00, -3.72358539e-01, -1.95436939e-01,\n",
       "         2.99620228e-01,  6.04033341e-01, -3.76185517e-01,\n",
       "        -4.32640933e-01],\n",
       "       [-1.50857987e+00,  8.85614886e-01,  9.66401143e-01,\n",
       "         1.23903831e+00,  6.23164996e-01,  1.57290850e+00,\n",
       "         9.59112549e-01, -3.76897345e-01,  3.72761682e-01,\n",
       "         1.78027558e+00, -3.72358539e-01, -1.95436939e-01,\n",
       "         2.99620228e-01,  6.04033341e-01, -2.25046965e-01,\n",
       "        -4.32640933e-01],\n",
       "       [ 1.78945661e+00, -1.12915898e+00, -1.56974278e+00,\n",
       "        -3.91019429e-01, -3.91124697e-01, -8.34773822e-01,\n",
       "         4.14426697e-01,  1.77680177e+00,  1.66477001e+00,\n",
       "         1.62930987e+00, -1.17836775e+00, -1.95436939e-01,\n",
       "         2.67497010e+00,  1.66414972e+00, -1.28301683e+00,\n",
       "        -8.66075702e-01]])"
      ]
     },
     "execution_count": 26,
     "metadata": {},
     "output_type": "execute_result"
    }
   ],
   "source": [
    "testing_data"
   ]
  },
  {
   "cell_type": "code",
   "execution_count": 27,
   "id": "2b9c8ef2-92e4-49b5-b1b6-40bd039903ba",
   "metadata": {},
   "outputs": [
    {
     "name": "stdout",
     "output_type": "stream",
     "text": [
      "Training Data Shape:  (182, 16)\n",
      "Training Result Shape:  (182,)\n",
      "Testing Data Shape:  (23, 16)\n",
      "Testing Result Shape:  (23,)\n"
     ]
    }
   ],
   "source": [
    "print(\"Training Data Shape: \", training_data.shape)\n",
    "print(\"Training Result Shape: \", training_result.shape)\n",
    "print(\"Testing Data Shape: \", testing_data.shape)\n",
    "print(\"Testing Result Shape: \", testing_result.shape)"
   ]
  },
  {
   "cell_type": "markdown",
   "id": "18cbf31d-bc4d-4bd4-a09c-6ea6ef1bc4ef",
   "metadata": {},
   "source": [
    "## Linear Regression Model"
   ]
  },
  {
   "cell_type": "code",
   "execution_count": 29,
   "id": "bd09bfb6-6b95-43c9-8512-376d0dde05dd",
   "metadata": {},
   "outputs": [
    {
     "name": "stdout",
     "output_type": "stream",
     "text": [
      "R^2 Score:  0.8922543914580489\n",
      "Mean Squared Error:  6621330.103166812\n"
     ]
    }
   ],
   "source": [
    "# Initialize the Linear Regression model\n",
    "linear_model = LinearRegression()\n",
    "\n",
    "# Train the Linear Regression model on the training data \n",
    "linear_model.fit(training_data, training_result)\n",
    "\n",
    "# Predict the labels for the testing data\n",
    "linear_pred = linear_model.predict(testing_data)\n",
    "\n",
    "# Calculate the R² score & Mean Squared Error (MSE) for the testing dataset\n",
    "linear_r2 = r2_score(testing_result, linear_pred)\n",
    "linear_mse = mean_squared_error(testing_result, linear_pred)\n",
    "\n",
    "# Print the performance metrics of the Linear Regression model\n",
    "print(\"R^2 Score: \", linear_r2)\n",
    "print(\"Mean Squared Error: \", linear_mse)"
   ]
  },
  {
   "cell_type": "code",
   "execution_count": 30,
   "id": "60f2c7fa-638f-4c84-a9d2-1df6fec66cc3",
   "metadata": {},
   "outputs": [
    {
     "data": {
      "text/plain": [
       "(23, 1)"
      ]
     },
     "execution_count": 30,
     "metadata": {},
     "output_type": "execute_result"
    }
   ],
   "source": [
    "testing_result.shape\n",
    "\n",
    "testing_result_matrix = testing_result.values.reshape(-1, 1)\n",
    "\n",
    "testing_result_matrix.shape"
   ]
  },
  {
   "cell_type": "code",
   "execution_count": 31,
   "id": "79ae4980-b324-47f5-be1d-a19c24abe38a",
   "metadata": {},
   "outputs": [
    {
     "data": {
      "text/html": [
       "<div>\n",
       "<style scoped>\n",
       "    .dataframe tbody tr th:only-of-type {\n",
       "        vertical-align: middle;\n",
       "    }\n",
       "\n",
       "    .dataframe tbody tr th {\n",
       "        vertical-align: top;\n",
       "    }\n",
       "\n",
       "    .dataframe thead th {\n",
       "        text-align: right;\n",
       "    }\n",
       "</style>\n",
       "<table border=\"1\" class=\"dataframe\">\n",
       "  <thead>\n",
       "    <tr style=\"text-align: right;\">\n",
       "      <th></th>\n",
       "      <th>Actual</th>\n",
       "      <th>Predicted</th>\n",
       "    </tr>\n",
       "  </thead>\n",
       "  <tbody>\n",
       "    <tr>\n",
       "      <th>0</th>\n",
       "      <td>7738.0</td>\n",
       "      <td>6010.179108</td>\n",
       "    </tr>\n",
       "    <tr>\n",
       "      <th>1</th>\n",
       "      <td>8495.0</td>\n",
       "      <td>10142.265042</td>\n",
       "    </tr>\n",
       "    <tr>\n",
       "      <th>2</th>\n",
       "      <td>8845.0</td>\n",
       "      <td>10114.534755</td>\n",
       "    </tr>\n",
       "    <tr>\n",
       "      <th>3</th>\n",
       "      <td>9298.0</td>\n",
       "      <td>11952.287775</td>\n",
       "    </tr>\n",
       "    <tr>\n",
       "      <th>4</th>\n",
       "      <td>7603.0</td>\n",
       "      <td>9491.793638</td>\n",
       "    </tr>\n",
       "    <tr>\n",
       "      <th>5</th>\n",
       "      <td>11245.0</td>\n",
       "      <td>10047.698547</td>\n",
       "    </tr>\n",
       "    <tr>\n",
       "      <th>6</th>\n",
       "      <td>18420.0</td>\n",
       "      <td>15389.202657</td>\n",
       "    </tr>\n",
       "    <tr>\n",
       "      <th>7</th>\n",
       "      <td>16503.0</td>\n",
       "      <td>18053.456807</td>\n",
       "    </tr>\n",
       "    <tr>\n",
       "      <th>8</th>\n",
       "      <td>17669.0</td>\n",
       "      <td>14525.835187</td>\n",
       "    </tr>\n",
       "    <tr>\n",
       "      <th>9</th>\n",
       "      <td>17199.0</td>\n",
       "      <td>23586.106530</td>\n",
       "    </tr>\n",
       "  </tbody>\n",
       "</table>\n",
       "</div>"
      ],
      "text/plain": [
       "    Actual     Predicted\n",
       "0   7738.0   6010.179108\n",
       "1   8495.0  10142.265042\n",
       "2   8845.0  10114.534755\n",
       "3   9298.0  11952.287775\n",
       "4   7603.0   9491.793638\n",
       "5  11245.0  10047.698547\n",
       "6  18420.0  15389.202657\n",
       "7  16503.0  18053.456807\n",
       "8  17669.0  14525.835187\n",
       "9  17199.0  23586.106530"
      ]
     },
     "execution_count": 31,
     "metadata": {},
     "output_type": "execute_result"
    }
   ],
   "source": [
    "comparison_df = pd.DataFrame({'Actual': testing_result_matrix.flatten(), 'Predicted': linear_pred.flatten()})\n",
    "\n",
    "comparison_df.head(10)"
   ]
  },
  {
   "cell_type": "markdown",
   "id": "9afc9bcc-9c75-4285-9281-4396160ca669",
   "metadata": {},
   "source": [
    "## K-Nearest Neighbors (KNN) Model"
   ]
  },
  {
   "cell_type": "code",
   "execution_count": 33,
   "id": "f9eb9573-4193-44ad-98b7-bb8f7cb14c3f",
   "metadata": {},
   "outputs": [
    {
     "name": "stdout",
     "output_type": "stream",
     "text": [
      "R^2 Score:  0.9169860420418339\n",
      "Mean Squared Error:  5101486.977053139\n"
     ]
    }
   ],
   "source": [
    "# Initialize the K-Nearest Neighbors (KNN) Regressor with  neighbors\n",
    "knn_model = KNeighborsRegressor(n_neighbors=3)\n",
    "\n",
    "# Train the KNN model on the training data and labels\n",
    "knn_model.fit(training_data, training_result)\n",
    "\n",
    "# Predict the labels for the testing data\n",
    "knn_pred = knn_model.predict(testing_data)\n",
    "\n",
    "# Calculate the R² score & Mean Squared Error (MSE) for the testing dataset\n",
    "knn_r2 = r2_score(testing_result, knn_pred)\n",
    "knn_mse = mean_squared_error(testing_result, knn_pred)\n",
    "\n",
    "# Print the performance metrics of the KNN model\n",
    "print(\"R^2 Score: \", knn_r2)\n",
    "print(\"Mean Squared Error: \", knn_mse)"
   ]
  },
  {
   "cell_type": "markdown",
   "id": "4ed47fa4-1aa3-4587-b519-6a32a423e212",
   "metadata": {},
   "source": [
    "## Decision Tree Model"
   ]
  },
  {
   "cell_type": "code",
   "execution_count": 35,
   "id": "08a248ee-1654-406b-9637-d92f0155f33a",
   "metadata": {},
   "outputs": [
    {
     "name": "stdout",
     "output_type": "stream",
     "text": [
      "R^2 Score:  0.8700540790489801\n",
      "Mean Squared Error:  7985613.982974692\n"
     ]
    }
   ],
   "source": [
    "# Initialize the Decision Tree Regressor\n",
    "dt_model = DecisionTreeRegressor(random_state=42, max_depth=4, min_samples_leaf=5)\n",
    "\n",
    "# Train the model\n",
    "dt_model.fit(training_data, training_result)\n",
    "\n",
    "# Predict on the testing data\n",
    "dt_pred = dt_model.predict(testing_data)\n",
    "\n",
    "# Calculate the R² score & Mean Squared Error (MSE) for the testing dataset\n",
    "dt_r2 = r2_score(testing_result, dt_pred)\n",
    "dt_mse = mean_squared_error(testing_result, dt_pred)\n",
    "\n",
    "# Print the performance metrics of the KNN model\n",
    "print(\"R^2 Score: \", dt_r2)\n",
    "print(\"Mean Squared Error: \", dt_mse)"
   ]
  },
  {
   "cell_type": "markdown",
   "id": "3494a780-95ed-4934-9d92-36c557d4b2a5",
   "metadata": {},
   "source": [
    "## Adaboost Regressor"
   ]
  },
  {
   "cell_type": "code",
   "execution_count": 37,
   "id": "6b0f4edb-10c8-45d1-b927-f9353057c3e8",
   "metadata": {},
   "outputs": [
    {
     "name": "stdout",
     "output_type": "stream",
     "text": [
      "R^2 Score:  0.9541454429201923\n",
      "Mean Squared Error:  2817916.7881510104\n"
     ]
    }
   ],
   "source": [
    "# Initialize and train the Adaboost Regressor model\n",
    "adb_model = AdaBoostRegressor(n_estimators=100, learning_rate=0.1, random_state=42)\n",
    "adb_model.fit(training_data, training_result)\n",
    "\n",
    "# Make predictions\n",
    "adb_pred = adb_model.predict(testing_data)\n",
    "\n",
    "# Calculate the R² score & Mean Squared Error (MSE) for the testing dataset\n",
    "adb_r2 = r2_score(testing_result, adb_pred)\n",
    "adb_mse = mean_squared_error(testing_result, adb_pred)\n",
    "\n",
    "# Print the performance metrics of the Rnadom Forest model\n",
    "print(\"R^2 Score: \", adb_r2)\n",
    "print(\"Mean Squared Error: \", adb_mse)"
   ]
  },
  {
   "cell_type": "markdown",
   "id": "c0ccb698-4cc5-487e-b0d1-cf840a83237a",
   "metadata": {},
   "source": [
    "## Gradient Boosting Regressor"
   ]
  },
  {
   "cell_type": "code",
   "execution_count": 39,
   "id": "2a035a85-cef2-476f-b01e-c0efbe1ec02d",
   "metadata": {},
   "outputs": [
    {
     "name": "stdout",
     "output_type": "stream",
     "text": [
      "R^2 Score:  0.9437870684821542\n",
      "Mean Squared Error:  3454473.7431358756\n"
     ]
    }
   ],
   "source": [
    "# Initialize and train the Gradient Boosting Regressor model\n",
    "gb_model = GradientBoostingRegressor(n_estimators=100, learning_rate=0.1, max_depth=5, random_state=42)\n",
    "gb_model.fit(training_data, training_result)\n",
    "\n",
    "# Make predictions\n",
    "gb_pred = gb_model.predict(testing_data)\n",
    "\n",
    "# Calculate the R² score & Mean Squared Error (MSE) for the testing dataset\n",
    "gb_r2 = r2_score(testing_result, gb_pred)\n",
    "gb_mse = mean_squared_error(testing_result, gb_pred)\n",
    "\n",
    "# Print the performance metrics of the Rnadom Forest model\n",
    "print(\"R^2 Score: \", gb_r2)\n",
    "print(\"Mean Squared Error: \", gb_mse)"
   ]
  },
  {
   "cell_type": "markdown",
   "id": "d348425c-e28a-4610-9ac0-b4d85bf30078",
   "metadata": {},
   "source": [
    "## XGBoost Regressor"
   ]
  },
  {
   "cell_type": "code",
   "execution_count": 41,
   "id": "f011b7a8-7106-4e49-b70a-83ce4cca6504",
   "metadata": {},
   "outputs": [
    {
     "name": "stdout",
     "output_type": "stream",
     "text": [
      "R^2 Score:  0.9441874441659198\n",
      "Mean Squared Error:  3429869.310497108\n"
     ]
    }
   ],
   "source": [
    "# Initialize and train the XGBoost Regressor model\n",
    "xgb_model = XGBRegressor(n_estimators=100, learning_rate=0.1, max_depth=5, random_state=42)\n",
    "xgb_model.fit(training_data, training_result)\n",
    "\n",
    "# Make predictions\n",
    "xgb_pred = xgb_model.predict(testing_data)\n",
    "\n",
    "# Calculate the R² score & Mean Squared Error (MSE) for the testing dataset\n",
    "xgb_r2 = r2_score(testing_result, xgb_pred)\n",
    "xgb_mse = mean_squared_error(testing_result, xgb_pred)\n",
    "\n",
    "# Print the performance metrics of the Rnadom Forest model\n",
    "print(\"R^2 Score: \", xgb_r2)\n",
    "print(\"Mean Squared Error: \", xgb_mse)"
   ]
  },
  {
   "cell_type": "code",
   "execution_count": null,
   "id": "07ab01e1-7cde-47da-88bf-7e2ada82d5cb",
   "metadata": {},
   "outputs": [],
   "source": []
  }
 ],
 "metadata": {
  "kernelspec": {
   "display_name": "Python [conda env:base] *",
   "language": "python",
   "name": "conda-base-py"
  },
  "language_info": {
   "codemirror_mode": {
    "name": "ipython",
    "version": 3
   },
   "file_extension": ".py",
   "mimetype": "text/x-python",
   "name": "python",
   "nbconvert_exporter": "python",
   "pygments_lexer": "ipython3",
   "version": "3.12.4"
  }
 },
 "nbformat": 4,
 "nbformat_minor": 5
}
